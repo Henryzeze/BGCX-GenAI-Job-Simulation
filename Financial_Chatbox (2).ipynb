{
  "nbformat": 4,
  "nbformat_minor": 0,
  "metadata": {
    "colab": {
      "provenance": []
    },
    "kernelspec": {
      "name": "python3",
      "display_name": "Python 3"
    },
    "language_info": {
      "name": "python"
    }
  },
  "cells": [
    {
      "cell_type": "code",
      "execution_count": 9,
      "metadata": {
        "colab": {
          "base_uri": "https://localhost:8080/"
        },
        "id": "IoW6xDD6I8qi",
        "outputId": "7b18aa22-b1a3-4b1a-90cc-b37f4842fed1"
      },
      "outputs": [
        {
          "output_type": "stream",
          "name": "stdout",
          "text": [
            "Authtoken saved to configuration file: /root/.config/ngrok/ngrok.yml\n"
          ]
        }
      ],
      "source": [
        "!ngrok authtoken 2hnPdR1Nt7RduYxjmn8sNYqR7mV_43f7p1A7TadpTBS9FQABu"
      ]
    },
    {
      "cell_type": "code",
      "source": [
        "!pip install pyngrok"
      ],
      "metadata": {
        "colab": {
          "base_uri": "https://localhost:8080/"
        },
        "id": "8Br5-zPzUMy3",
        "outputId": "e860bdb8-2ab8-415e-aa71-329d4d58f25d"
      },
      "execution_count": 10,
      "outputs": [
        {
          "output_type": "stream",
          "name": "stdout",
          "text": [
            "Requirement already satisfied: pyngrok in /usr/local/lib/python3.10/dist-packages (7.1.6)\n",
            "Requirement already satisfied: PyYAML>=5.1 in /usr/local/lib/python3.10/dist-packages (from pyngrok) (6.0.1)\n"
          ]
        }
      ]
    },
    {
      "cell_type": "code",
      "source": [
        "%%writefile app.py\n",
        "\n",
        "from flask import Flask, request, render_template_string\n",
        "import re\n",
        "import pandas as pd\n",
        "\n",
        "app = Flask(__name__)\n",
        "\n",
        "financial_data = pd.read_excel(\"K10_filings final.xlsx\")\n",
        "\n",
        "def simple_chatbot(user_query):\n",
        "    try:\n",
        "        # Extract company name\n",
        "        company_pattern = re.compile(r'\\b(Microsoft|Apple|Tesla)\\b', re.IGNORECASE)\n",
        "        company_match = company_pattern.search(user_query)\n",
        "        if not company_match:\n",
        "            return \"Sorry, I couldn't understand the company name in your query. Please ask about Microsoft, Apple, or Tesla.\"\n",
        "        company = company_match.group(0).capitalize()\n",
        "\n",
        "        # Extract year\n",
        "        year_pattern = re.compile(r'\\b(2021|2022|2023)\\b')\n",
        "        year_match = year_pattern.search(user_query)\n",
        "        if not year_match:\n",
        "            return \"Sorry, I couldn't understand the year in your query. Please ask about 2021, 2022, or 2023.\"\n",
        "        year = int(year_match.group(0))\n",
        "\n",
        "    except Exception as e:\n",
        "        return f\"Sorry, I couldn't understand the query. Error: {str(e)}\"\n",
        "\n",
        "    if \"total revenue\" in user_query.lower():\n",
        "        return f\"The total revenue of {company} in {year} is ${financial_data[company][year]['Total Revenue']} million.\"\n",
        "    elif \"net income changed\" in user_query.lower():\n",
        "        current_year = year\n",
        "        previous_year = year - 1\n",
        "        change = financial_data[company][current_year]['Net Income'] - financial_data[company][previous_year]['Net Income']\n",
        "        return f\"The net income of {company} has {'increased' if change > 0 else 'decreased'} by ${abs(change)} million over the last year.\"\n",
        "    elif \"profit margin\" in user_query.lower():\n",
        "        return f\"The profit margin of {company} in {year} is {financial_data[company][year]['Profit Margin'] * 100:.2f}%.\"\n",
        "    elif \"total assets\" in user_query.lower():\n",
        "        return f\"The total assets of {company} in {year} are ${financial_data[company][year]['Total Assets']} million.\"\n",
        "    elif \"liabilities to assets ratio\" in user_query.lower():\n",
        "        return f\"The liabilities to assets ratio of {company} in {year} is {financial_data[company][year]['Liabilities to Assets Ratio']:.2f}.\"\n",
        "    else:\n",
        "        return \"Sorry, I can only provide information on predefined queries.\"\n",
        "\n",
        "@app.route(\"/\", methods=[\"GET\", \"POST\"])\n",
        "def index():\n",
        "    response = \"\"\n",
        "    if request.method == \"POST\":\n",
        "        user_query = request.form[\"query\"]\n",
        "        response = simple_chatbot(user_query)\n",
        "    return render_template_string('''\n",
        "    <!DOCTYPE html>\n",
        "    <html lang=\"en\">\n",
        "    <head>\n",
        "        <meta charset=\"UTF-8\">\n",
        "        <meta name=\"viewport\" content=\"width=device-width, initial-scale=1.0\">\n",
        "        <title>Financial Chatbot</title>\n",
        "        <style>\n",
        "            body {\n",
        "                font-family: Arial, sans-serif;\n",
        "                margin: 0;\n",
        "                padding: 20px;\n",
        "                background-color: #f4f4f4;\n",
        "            }\n",
        "            .container {\n",
        "                max-width: 600px;\n",
        "                margin: auto;\n",
        "                background: #fff;\n",
        "                padding: 20px;\n",
        "                border-radius: 8px;\n",
        "                box-shadow: 0 0 10px rgba(0, 0, 0, 0.1);\n",
        "            }\n",
        "            h1 {\n",
        "                text-align: center;\n",
        "            }\n",
        "            form {\n",
        "                display: flex;\n",
        "                flex-direction: column;\n",
        "            }\n",
        "            input[type=\"text\"] {\n",
        "                padding: 10px;\n",
        "                margin-bottom: 10px;\n",
        "                border-radius: 4px;\n",
        "                border: 1px solid #ddd;\n",
        "                font-size: 16px;\n",
        "            }\n",
        "            input[type=\"submit\"] {\n",
        "                padding: 10px;\n",
        "                border: none;\n",
        "                border-radius: 4px;\n",
        "                background-color: #5cb85c;\n",
        "                color: #fff;\n",
        "                font-size: 16px;\n",
        "                cursor: pointer;\n",
        "            }\n",
        "            input[type=\"submit\"]:hover {\n",
        "                background-color: #4cae4c;\n",
        "            }\n",
        "            .response {\n",
        "                margin-top: 20px;\n",
        "                padding: 15px;\n",
        "                background-color: #e9ecef;\n",
        "                border-radius: 4px;\n",
        "                font-size: 16px;\n",
        "            }\n",
        "        </style>\n",
        "    </head>\n",
        "    <body>\n",
        "        <div class=\"container\">\n",
        "            <h1>Financial Chatbot</h1>\n",
        "            <form method=\"post\">\n",
        "                <input type=\"text\" name=\"query\" placeholder=\"Ask a financial question...\" required>\n",
        "                <input type=\"submit\" value=\"Ask\">\n",
        "            </form>\n",
        "            {% if response %}\n",
        "                <div class=\"response\">{{ response }}</div>\n",
        "            {% endif %}\n",
        "        </div>\n",
        "    </body>\n",
        "    </html>\n",
        "    ''', response=response)\n",
        "\n",
        "if __name__ == \"__main__\":\n",
        "    app.run()"
      ],
      "metadata": {
        "colab": {
          "base_uri": "https://localhost:8080/"
        },
        "id": "FhR8OtQFUQP1",
        "outputId": "e8c924d2-d1fb-47c0-ed91-d02d5e4b5da4"
      },
      "execution_count": 16,
      "outputs": [
        {
          "output_type": "stream",
          "name": "stdout",
          "text": [
            "Overwriting app.py\n"
          ]
        }
      ]
    },
    {
      "cell_type": "code",
      "source": [
        "from pyngrok import ngrok\n",
        "import subprocess\n",
        "import time\n",
        "\n",
        "# Set your ngrok authtoken\n",
        "ngrok.set_auth_token(\"2hnPdR1Nt7RduYxjmn8sNYqR7mV_43f7p1A7TadpTBS9FQABu\")\n",
        "\n",
        "# Run Flask app\n",
        "subprocess.Popen(['python', 'app.py'])\n",
        "\n",
        "# Open an ngrok tunnel to the Flask app\n",
        "http_tunnel = ngrok.connect(5000)\n",
        "print(f\"Public URL: {http_tunnel.public_url}\")\n",
        "\n",
        "# Ensure the Flask app is running\n",
        "time.sleep(5)"
      ],
      "metadata": {
        "colab": {
          "base_uri": "https://localhost:8080/"
        },
        "id": "TNsffW3EUTFk",
        "outputId": "86772dba-4edf-4e09-be25-b6308cb37753"
      },
      "execution_count": 17,
      "outputs": [
        {
          "output_type": "stream",
          "name": "stdout",
          "text": [
            "Public URL: https://7cf6-34-74-100-241.ngrok-free.app\n"
          ]
        }
      ]
    }
  ]
}